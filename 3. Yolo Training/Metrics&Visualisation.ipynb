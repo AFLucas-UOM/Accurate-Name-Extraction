{
 "cells": [
  {
   "cell_type": "markdown",
   "id": "ea29243d",
   "metadata": {},
   "source": [
    "# FYP ICT3909 - Yolo Metrics and Visualisation\n",
    "---\n",
    "\n",
    "**Name:** Andrea Filiberto Lucas  \n",
    "**ID No:** 0279704L\n",
    "\n",
    "---"
   ]
  }
 ],
 "metadata": {
  "language_info": {
   "name": "python"
  }
 },
 "nbformat": 4,
 "nbformat_minor": 5
}
